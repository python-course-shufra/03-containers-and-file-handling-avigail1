{
 "cells": [
  {
   "cell_type": "code",
   "execution_count": 29,
   "id": "b678df7d-f944-4059-b0ec-c2646e7b7603",
   "metadata": {},
   "outputs": [],
   "source": [
    "classroom = [\n",
    "    {\n",
    "        'name': 'Alice',\n",
    "        'email': 'alice@example.com',\n",
    "        'grades': [\n",
    "            ('math', 91),\n",
    "            ('english', 78),\n",
    "            ('math', 90),\n",
    "            ('history', 34),\n",
    "            ('math', 95),\n",
    "        ],\n",
    "    },\n",
    "    {\n",
    "        'name': 'Bob',\n",
    "        'email': 'bob@example.com',\n",
    "        'grades': [\n",
    "            ('math', 85),\n",
    "            ('english', 92),\n",
    "            ('history', 75),\n",
    "        ],\n",
    "    },\n",
    "    {\n",
    "        'name': 'Charlie',\n",
    "        'email': 'charlie@example.com',\n",
    "        'grades': [\n",
    "            ('physics', 78),\n",
    "            ('english', 81),\n",
    "            ('english', 89),\n",
    "            ('history', 68),\n",
    "            ('english', 82),\n",
    "            ('physics', 91),\n",
    "        ],\n",
    "    },\n",
    "]"
   ]
  },
  {
   "cell_type": "code",
   "execution_count": 30,
   "id": "85ba031d-a04b-4f79-bc15-97ba0e12e6a6",
   "metadata": {},
   "outputs": [
    {
     "data": {
      "text/plain": [
       "[{'name': 'Alice',\n",
       "  'email': 'alice@example.com',\n",
       "  'grades': [('math', 91),\n",
       "   ('english', 78),\n",
       "   ('math', 90),\n",
       "   ('history', 34),\n",
       "   ('math', 95)]},\n",
       " {'name': 'Bob',\n",
       "  'email': 'bob@example.com',\n",
       "  'grades': [('math', 85), ('english', 92), ('history', 75)]},\n",
       " {'name': 'Charlie',\n",
       "  'email': 'charlie@example.com',\n",
       "  'grades': [('physics', 78),\n",
       "   ('english', 81),\n",
       "   ('english', 89),\n",
       "   ('history', 68),\n",
       "   ('english', 82),\n",
       "   ('physics', 91)]}]"
      ]
     },
     "execution_count": 30,
     "metadata": {},
     "output_type": "execute_result"
    }
   ],
   "source": [
    "classroom"
   ]
  },
  {
   "cell_type": "code",
   "execution_count": 146,
   "id": "cd63001f-50df-4252-9d1b-65de6a1a8804",
   "metadata": {},
   "outputs": [],
   "source": [
    "def findStudent(s):\n",
    "      for x,i in enumerate(classroom):\n",
    "         if(i['name']==s ):\n",
    "            return x,i\n",
    "\n",
    "def add_student(name, email=None):\n",
    "    \"\"\"Add a new student to the classroom\n",
    "    with the following keys:\n",
    "    'name': the given name\n",
    "    'email': if email is given use it otherwise use <name>@example.com\n",
    "             in lowercase, you can use the `s.lower()` method\n",
    "    'grade': initialize with empty list\n",
    "    \"\"\"\n",
    "    newStunent={\n",
    "        'name': name,\n",
    "        'grades': [],\n",
    "    }\n",
    "    if(email):\n",
    "        newStunent[\"email\"]=email\n",
    "    else:\n",
    "        newStunent[\"email\"]=f'{newStunent[\"name\"]}@example.com'\n",
    "    classroom.append(newStunent)\n",
    "\n",
    "    pass\n",
    "\n",
    "\n",
    "\n",
    "def delete_student(name):\n",
    "    \"\"\"Delete a student from the classroom\"\"\"\n",
    "    fstudent= findStudent(name)\n",
    "    if(fstudent):\n",
    "        classroom.remove(fstudent[1])\n",
    "    pass\n",
    "\n",
    "\n",
    "\n",
    "def set_email(name, email):\n",
    "    \"\"\"Sets the email of the student\"\"\"\n",
    "    fstudent= findStudent(name)\n",
    "    if(fstudent):\n",
    "        classroom[fstudent[0]][\"email\"]=email\n",
    "    pass\n",
    "\n",
    "def add_grade(name, profession, grade):\n",
    "    \"\"\"Adds a new grade to the student grades\"\"\"\n",
    "    fstudent= findStudent(name)\n",
    "    if(fstudent):\n",
    "        classroom[fstudent[0]][\"grades\"].append((profession, grade))\n",
    "    pass\n",
    "\n",
    "\n",
    "def avg_grade(name, profession):\n",
    "    \"\"\"Returns the average of grades of the student\n",
    "    in the specified profession\n",
    "    \"\"\"\n",
    "    sum=0\n",
    "    count=0\n",
    "    fstudent= findStudent(name)\n",
    "    if(fstudent):\n",
    "        for idx,val in enumerate(classroom[fstudent[0]][\"grades\"]):\n",
    "            if(val[0]== profession):\n",
    "                sum+=val[1]\n",
    "                count+=1\n",
    "    return sum/ count\n",
    "    pass\n",
    "\n",
    "def get_professions(name):\n",
    "    prof=[]\n",
    "    fstudent= findStudent(name)\n",
    "    if(fstudent):\n",
    "        for val in classroom[fstudent[0]][\"grades\"]:\n",
    "            if not any (val[0]==x for x in prof):\n",
    "               prof.append(val[0])\n",
    "    return prof\n",
    "    pass"
   ]
  },
  {
   "cell_type": "code",
   "execution_count": 147,
   "id": "51070655-0e63-491b-a411-ce6f9b4bece6",
   "metadata": {},
   "outputs": [
    {
     "data": {
      "text/plain": [
       "['tora', 'navi']"
      ]
     },
     "execution_count": 147,
     "metadata": {},
     "output_type": "execute_result"
    }
   ],
   "source": [
    "get_professions(\"aaa\")"
   ]
  },
  {
   "cell_type": "code",
   "execution_count": 27,
   "id": "f5b27e75-964a-44e2-890c-3e4bc3835790",
   "metadata": {},
   "outputs": [],
   "source": [
    "delete_student(\"Alice\")"
   ]
  },
  {
   "cell_type": "code",
   "execution_count": 104,
   "id": "a1cd917e-cb1c-441c-9ae1-4e242770d87c",
   "metadata": {},
   "outputs": [],
   "source": [
    "add_grade(\"aaa\",\"navi\",97)"
   ]
  },
  {
   "cell_type": "code",
   "execution_count": 86,
   "id": "f3c1827b-5887-43b4-9b01-356ff83b3def",
   "metadata": {},
   "outputs": [
    {
     "data": {
      "text/plain": [
       "[{'name': 'Alice',\n",
       "  'email': 'alice@example.com',\n",
       "  'grades': [('math', 91),\n",
       "   ('english', 78),\n",
       "   ('math', 90),\n",
       "   ('history', 34),\n",
       "   ('math', 95)]},\n",
       " {'name': 'Bob',\n",
       "  'email': 'bob@example.com',\n",
       "  'grades': [('math', 85), ('english', 92), ('history', 75)]},\n",
       " {'name': 'Charlie',\n",
       "  'email': 'charlie@example.com',\n",
       "  'grades': [('physics', 78),\n",
       "   ('english', 81),\n",
       "   ('english', 89),\n",
       "   ('history', 68),\n",
       "   ('english', 82),\n",
       "   ('physics', 91)]},\n",
       " {'name': 'aaa',\n",
       "  'grades': [('tora', 98), ('tora', 98), ('navi', 98)],\n",
       "  'email': 'a@ffahnj.dx'}]"
      ]
     },
     "execution_count": 86,
     "metadata": {},
     "output_type": "execute_result"
    }
   ],
   "source": [
    "classroom"
   ]
  },
  {
   "cell_type": "code",
   "execution_count": null,
   "id": "eaf47273-f94e-4f0a-b22e-bc822427a26d",
   "metadata": {},
   "outputs": [],
   "source": []
  },
  {
   "cell_type": "code",
   "execution_count": null,
   "id": "d21408db-7e8a-4d4b-8c17-126fea4b2ea2",
   "metadata": {},
   "outputs": [],
   "source": []
  },
  {
   "cell_type": "code",
   "execution_count": null,
   "id": "f57d4a82-dc70-4b9e-8aa0-30691081ffc4",
   "metadata": {},
   "outputs": [],
   "source": []
  },
  {
   "cell_type": "code",
   "execution_count": null,
   "id": "1c82e3fa-a9a2-45a9-988b-85763f375c77",
   "metadata": {},
   "outputs": [],
   "source": []
  },
  {
   "cell_type": "code",
   "execution_count": null,
   "id": "e16dc154-51d9-43ca-9abe-0ac79271e4b1",
   "metadata": {},
   "outputs": [],
   "source": []
  }
 ],
 "metadata": {
  "kernelspec": {
   "display_name": "Python 3 (ipykernel)",
   "language": "python",
   "name": "python3"
  },
  "language_info": {
   "codemirror_mode": {
    "name": "ipython",
    "version": 3
   },
   "file_extension": ".py",
   "mimetype": "text/x-python",
   "name": "python",
   "nbconvert_exporter": "python",
   "pygments_lexer": "ipython3",
   "version": "3.12.0"
  }
 },
 "nbformat": 4,
 "nbformat_minor": 5
}
