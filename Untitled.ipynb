{
 "cells": [
  {
   "cell_type": "code",
   "execution_count": 29,
   "id": "b678df7d-f944-4059-b0ec-c2646e7b7603",
   "metadata": {},
   "outputs": [],
   "source": [
    "classroom = [\n",
    "        \n",
    "    {\n",
    "        'name': 'Alice',\n",
    "        'email': 'alice@example.com',\n",
    "        'grades': [\n",
    "            ('math', 91),\n",
    "            ('english', 78),\n",
    "            ('math', 90),\n",
    "            ('history', 34),\n",
    "            ('math', 95),\n",
    "        ],\n",
    "    },\n",
    "    {\n",
    "        'name': 'Bob',\n",
    "        'email': 'bob@example.com',\n",
    "        'grades': [\n",
    "            ('math', 85),\n",
    "            ('english', 92),\n",
    "            ('history', 75),\n",
    "        ],\n",
    "    },\n",
    "    {\n",
    "        'name': 'Charlie',\n",
    "        'email': 'charlie@example.com',\n",
    "        'grades': [\n",
    "            ('physics', 78),\n",
    "            ('english', 81),\n",
    "            ('english', 89),\n",
    "            ('history', 68),\n",
    "            ('english', 82),\n",
    "            ('physics', 91),\n",
    "        ],\n",
    "    },\n",
    "]"
   ]
  },
  {
   "cell_type": "code",
   "execution_count": 30,
   "id": "85ba031d-a04b-4f79-bc15-97ba0e12e6a6",
   "metadata": {},
   "outputs": [
    {
     "data": {
      "text/plain": [
       "[{'name': 'Alice',\n",
       "  'email': 'alice@example.com',\n",
       "  'grades': [('math', 91),\n",
       "   ('english', 78),\n",
       "   ('math', 90),\n",
       "   ('history', 34),\n",
       "   ('math', 95)]},\n",
       " {'name': 'Bob',\n",
       "  'email': 'bob@example.com',\n",
       "  'grades': [('math', 85), ('english', 92), ('history', 75)]},\n",
       " {'name': 'Charlie',\n",
       "  'email': 'charlie@example.com',\n",
       "  'grades': [('physics', 78),\n",
       "   ('english', 81),\n",
       "   ('english', 89),\n",
       "   ('history', 68),\n",
       "   ('english', 82),\n",
       "   ('physics', 91)]}]"
      ]
     },
     "execution_count": 30,
     "metadata": {},
     "output_type": "execute_result"
    }
   ],
   "source": [
    "classroom"
   ]
  },
  {
   "cell_type": "code",
   "execution_count": 174,
   "id": "cd63001f-50df-4252-9d1b-65de6a1a8804",
   "metadata": {},
   "outputs": [],
   "source": [
    "def findStudent(s):\n",
    "      for x,i in enumerate(classroom):\n",
    "         if(i['name']==s ):\n",
    "            return x,i\n",
    "\n",
    "def add_student(name, email=None):\n",
    "    \"\"\"Add a new student to the classroom\n",
    "    with the following keys:\n",
    "    'name': the given name\n",
    "    'email': if email is given use it otherwise use <name>@example.com\n",
    "             in lowercase, you can use the `s.lower()` method\n",
    "    'grade': initialize with empty list\n",
    "    \"\"\"\n",
    "    newStunent={\n",
    "        'name': name,\n",
    "        'grades': [],\n",
    "    }\n",
    "    if(email):\n",
    "        newStunent[\"email\"]=email.lower()\n",
    "    else:\n",
    "        print(name.lower())\n",
    "        newStunent[\"email\"]=f'{name.lower()}@example.com'\n",
    "    classroom.append(newStunent)\n",
    "\n",
    "    pass\n",
    "\n",
    "\n",
    "\n",
    "\n",
    "def delete_student(name):\n",
    "    \"\"\"Delete a student from the classroom\"\"\"\n",
    "    fstudent= findStudent(name)\n",
    "    if(fstudent):\n",
    "        classroom.remove(fstudent[1])\n",
    "    pass\n",
    "\n",
    "\n",
    "\n",
    "def set_email(name, email):\n",
    "    \"\"\"Sets the email of the student\"\"\"\n",
    "    fstudent= findStudent(name)\n",
    "    if(fstudent):\n",
    "        classroom[fstudent[0]][\"email\"]=email\n",
    "    pass\n",
    "\n",
    "def add_grade(name, profession, grade):\n",
    "    \"\"\"Adds a new grade to the student grades\"\"\"\n",
    "    fstudent= findStudent(name)\n",
    "    if(fstudent):\n",
    "        classroom[fstudent[0]][\"grades\"].append((profession, grade))\n",
    "    pass\n",
    "\n",
    "\n",
    "def avg_grade(name, profession):\n",
    "    \"\"\"Returns the average of grades of the student\n",
    "    in the specified profession\n",
    "    \"\"\"\n",
    "    sum=0\n",
    "    count=0\n",
    "    fstudent= findStudent(name)\n",
    "    if(fstudent):\n",
    "        for idx,val in enumerate(classroom[fstudent[0]][\"grades\"]):\n",
    "            if(val[0]== profession):\n",
    "                sum+=val[1]\n",
    "                count+=1\n",
    "    return sum/ count\n",
    "    pass\n",
    "\n",
    "def get_professions(name):\n",
    "    prof=[]\n",
    "    fstudent= findStudent(name)\n",
    "    if(fstudent):\n",
    "        for val in classroom[fstudent[0]][\"grades\"]:\n",
    "            if not any (val[0]==x for x in prof):\n",
    "               prof.append(val[0])\n",
    "    return prof\n",
    "    pass"
   ]
  },
  {
   "cell_type": "code",
   "execution_count": 175,
   "id": "51070655-0e63-491b-a411-ce6f9b4bece6",
   "metadata": {},
   "outputs": [],
   "source": [
    "add_student(\"aaa\",\"adASd@vfbgn\")"
   ]
  },
  {
   "cell_type": "code",
   "execution_count": 169,
   "id": "f5b27e75-964a-44e2-890c-3e4bc3835790",
   "metadata": {},
   "outputs": [],
   "source": [
    "delete_student(\"Alice\")"
   ]
  },
  {
   "cell_type": "code",
   "execution_count": 170,
   "id": "a1cd917e-cb1c-441c-9ae1-4e242770d87c",
   "metadata": {},
   "outputs": [],
   "source": [
    "add_grade(\"aaa\",\"navi\",97)"
   ]
  },
  {
   "cell_type": "code",
   "execution_count": 176,
   "id": "f3c1827b-5887-43b4-9b01-356ff83b3def",
   "metadata": {},
   "outputs": [
    {
     "data": {
      "text/plain": [
       "[{'name': 'Bob',\n",
       "  'email': 'bob@example.com',\n",
       "  'grades': [('math', 85), ('english', 92), ('history', 75)]},\n",
       " {'name': 'Charlie',\n",
       "  'email': 'charlie@example.com',\n",
       "  'grades': [('physics', 78),\n",
       "   ('english', 81),\n",
       "   ('english', 89),\n",
       "   ('history', 68),\n",
       "   ('english', 82),\n",
       "   ('physics', 91)]},\n",
       " {'name': 'aaa',\n",
       "  'grades': [('tora', 98),\n",
       "   ('tora', 98),\n",
       "   ('navi', 98),\n",
       "   ('navi', 97),\n",
       "   ('navi', 97)],\n",
       "  'email': 'a@ffahnj.dx'},\n",
       " {'name': 'aaa', 'grades': [], 'email': 'adASd@vfbgn'},\n",
       " {'name': 'aaa', 'grades': [], 'email': 'adASd@vfbgn'},\n",
       " {'name': 'aaa', 'grades': [], 'email': 'adASd@vfbgn'},\n",
       " {'name': 'aaa', 'grades': [], 'email': 'adASd@vfbgn'},\n",
       " {'name': 'aaa', 'grades': [], 'email': 'adASd@vfbgn'},\n",
       " {'name': 'aaa', 'grades': [], 'email': 'adasd@vfbgn'}]"
      ]
     },
     "execution_count": 176,
     "metadata": {},
     "output_type": "execute_result"
    }
   ],
   "source": [
    "classroom"
   ]
  },
  {
   "cell_type": "code",
   "execution_count": 156,
   "id": "eaf47273-f94e-4f0a-b22e-bc822427a26d",
   "metadata": {},
   "outputs": [
    {
     "ename": "NameError",
     "evalue": "name 'ASD' is not defined",
     "output_type": "error",
     "traceback": [
      "\u001b[1;31m---------------------------------------------------------------------------\u001b[0m",
      "\u001b[1;31mNameError\u001b[0m                                 Traceback (most recent call last)",
      "Cell \u001b[1;32mIn[156], line 1\u001b[0m\n\u001b[1;32m----> 1\u001b[0m a\u001b[38;5;241m=\u001b[39m\u001b[43mASD\u001b[49m\n",
      "\u001b[1;31mNameError\u001b[0m: name 'ASD' is not defined"
     ]
    }
   ],
   "source": [
    "a=ASD"
   ]
  },
  {
   "cell_type": "code",
   "execution_count": 157,
   "id": "23c26cb1-fbda-4053-919b-a867dc0eab5c",
   "metadata": {},
   "outputs": [],
   "source": [
    "a=\"adsASD\""
   ]
  },
  {
   "cell_type": "code",
   "execution_count": 158,
   "id": "09e11ef1-565b-4a7f-bf66-ba14a0389d19",
   "metadata": {},
   "outputs": [
    {
     "ename": "SyntaxError",
     "evalue": "invalid syntax (3905452595.py, line 1)",
     "output_type": "error",
     "traceback": [
      "\u001b[1;36m  Cell \u001b[1;32mIn[158], line 1\u001b[1;36m\u001b[0m\n\u001b[1;33m    a.\u001b[0m\n\u001b[1;37m      ^\u001b[0m\n\u001b[1;31mSyntaxError\u001b[0m\u001b[1;31m:\u001b[0m invalid syntax\n"
     ]
    }
   ],
   "source": [
    "a."
   ]
  },
  {
   "cell_type": "code",
   "execution_count": 159,
   "id": "d21408db-7e8a-4d4b-8c17-126fea4b2ea2",
   "metadata": {},
   "outputs": [
    {
     "data": {
      "text/plain": [
       "'adsASD'"
      ]
     },
     "execution_count": 159,
     "metadata": {},
     "output_type": "execute_result"
    }
   ],
   "source": [
    "a"
   ]
  },
  {
   "cell_type": "code",
   "execution_count": 160,
   "id": "e72f7bfd-702e-4471-8813-64639d371b70",
   "metadata": {},
   "outputs": [
    {
     "data": {
      "text/plain": [
       "<function str.lower()>"
      ]
     },
     "execution_count": 160,
     "metadata": {},
     "output_type": "execute_result"
    }
   ],
   "source": [
    "a.lower"
   ]
  },
  {
   "cell_type": "code",
   "execution_count": 164,
   "id": "f57d4a82-dc70-4b9e-8aa0-30691081ffc4",
   "metadata": {},
   "outputs": [
    {
     "data": {
      "text/plain": [
       "['__add__',\n",
       " '__class__',\n",
       " '__contains__',\n",
       " '__delattr__',\n",
       " '__dir__',\n",
       " '__doc__',\n",
       " '__eq__',\n",
       " '__format__',\n",
       " '__ge__',\n",
       " '__getattribute__',\n",
       " '__getitem__',\n",
       " '__getnewargs__',\n",
       " '__getstate__',\n",
       " '__gt__',\n",
       " '__hash__',\n",
       " '__init__',\n",
       " '__init_subclass__',\n",
       " '__iter__',\n",
       " '__le__',\n",
       " '__len__',\n",
       " '__lt__',\n",
       " '__mod__',\n",
       " '__mul__',\n",
       " '__ne__',\n",
       " '__new__',\n",
       " '__reduce__',\n",
       " '__reduce_ex__',\n",
       " '__repr__',\n",
       " '__rmod__',\n",
       " '__rmul__',\n",
       " '__setattr__',\n",
       " '__sizeof__',\n",
       " '__str__',\n",
       " '__subclasshook__',\n",
       " 'capitalize',\n",
       " 'casefold',\n",
       " 'center',\n",
       " 'count',\n",
       " 'encode',\n",
       " 'endswith',\n",
       " 'expandtabs',\n",
       " 'find',\n",
       " 'format',\n",
       " 'format_map',\n",
       " 'index',\n",
       " 'isalnum',\n",
       " 'isalpha',\n",
       " 'isascii',\n",
       " 'isdecimal',\n",
       " 'isdigit',\n",
       " 'isidentifier',\n",
       " 'islower',\n",
       " 'isnumeric',\n",
       " 'isprintable',\n",
       " 'isspace',\n",
       " 'istitle',\n",
       " 'isupper',\n",
       " 'join',\n",
       " 'ljust',\n",
       " 'lower',\n",
       " 'lstrip',\n",
       " 'maketrans',\n",
       " 'partition',\n",
       " 'removeprefix',\n",
       " 'removesuffix',\n",
       " 'replace',\n",
       " 'rfind',\n",
       " 'rindex',\n",
       " 'rjust',\n",
       " 'rpartition',\n",
       " 'rsplit',\n",
       " 'rstrip',\n",
       " 'split',\n",
       " 'splitlines',\n",
       " 'startswith',\n",
       " 'strip',\n",
       " 'swapcase',\n",
       " 'title',\n",
       " 'translate',\n",
       " 'upper',\n",
       " 'zfill']"
      ]
     },
     "execution_count": 164,
     "metadata": {},
     "output_type": "execute_result"
    }
   ],
   "source": [
    "dir(a)"
   ]
  },
  {
   "cell_type": "code",
   "execution_count": 165,
   "id": "1c82e3fa-a9a2-45a9-988b-85763f375c77",
   "metadata": {},
   "outputs": [],
   "source": [
    "b=a.lower()\n"
   ]
  },
  {
   "cell_type": "code",
   "execution_count": 166,
   "id": "e16dc154-51d9-43ca-9abe-0ac79271e4b1",
   "metadata": {},
   "outputs": [
    {
     "data": {
      "text/plain": [
       "'adsasd'"
      ]
     },
     "execution_count": 166,
     "metadata": {},
     "output_type": "execute_result"
    }
   ],
   "source": [
    "b"
   ]
  },
  {
   "cell_type": "code",
   "execution_count": null,
   "id": "acf2ff7c-7196-4f0d-bd8e-a48396e7b2c1",
   "metadata": {},
   "outputs": [],
   "source": []
  },
  {
   "cell_type": "code",
   "execution_count": null,
   "id": "987d8c45-7036-4fac-a06a-c2e428d6edeb",
   "metadata": {},
   "outputs": [],
   "source": []
  },
  {
   "cell_type": "code",
   "execution_count": null,
   "id": "6cca2b1c-1364-4f83-babc-1330027daaff",
   "metadata": {},
   "outputs": [],
   "source": []
  },
  {
   "cell_type": "code",
   "execution_count": null,
   "id": "ec487f95-0e65-4c1b-bb82-9da09fe4c24a",
   "metadata": {},
   "outputs": [],
   "source": []
  },
  {
   "cell_type": "code",
   "execution_count": null,
   "id": "1a5e5b35-60be-4458-b017-0480bc5bb702",
   "metadata": {},
   "outputs": [],
   "source": []
  },
  {
   "cell_type": "code",
   "execution_count": null,
   "id": "6b4075a4-8654-4932-a5e4-97f6c6606ca7",
   "metadata": {},
   "outputs": [],
   "source": []
  }
 ],
 "metadata": {
  "kernelspec": {
   "display_name": "Python 3 (ipykernel)",
   "language": "python",
   "name": "python3"
  },
  "language_info": {
   "codemirror_mode": {
    "name": "ipython",
    "version": 3
   },
   "file_extension": ".py",
   "mimetype": "text/x-python",
   "name": "python",
   "nbconvert_exporter": "python",
   "pygments_lexer": "ipython3",
   "version": "3.12.0"
  }
 },
 "nbformat": 4,
 "nbformat_minor": 5
}
